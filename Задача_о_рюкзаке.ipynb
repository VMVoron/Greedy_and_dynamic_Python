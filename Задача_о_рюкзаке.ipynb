{
 "cells": [
  {
   "cell_type": "markdown",
   "id": "d88e4f51-0895-4421-8dcf-90a69624adb3",
   "metadata": {},
   "source": [
    "Турпоход.\n",
    "line = name, weight, utility\n"
   ]
  },
  {
   "cell_type": "markdown",
   "id": "87e92a6c-3084-434b-ad58-897288fba7a6",
   "metadata": {},
   "source": [
    "line = name, weight, utility"
   ]
  },
  {
   "cell_type": "code",
   "execution_count": 339,
   "id": "6d2151d2-2c31-4de9-adbd-bf5d1cd29dc8",
   "metadata": {},
   "outputs": [],
   "source": [
    "lst = []\n",
    "lst += [['вода', 3, 10]]\n",
    "lst += [['книга', 1, 3]]\n",
    "lst += [['еда', 2, 9]] \n",
    "lst += [['куртка', 2, 5]]\n",
    "lst += [['камера', 1, 6]]"
   ]
  },
  {
   "cell_type": "code",
   "execution_count": 340,
   "id": "20748b1a-40e2-41c3-88d4-b6837ee98109",
   "metadata": {},
   "outputs": [
    {
     "data": {
      "text/plain": [
       "[['вода', 3, 10],\n",
       " ['книга', 1, 3],\n",
       " ['еда', 2, 9],\n",
       " ['куртка', 2, 5],\n",
       " ['камера', 1, 6]]"
      ]
     },
     "execution_count": 340,
     "metadata": {},
     "output_type": "execute_result"
    }
   ],
   "source": [
    "lst"
   ]
  },
  {
   "cell_type": "markdown",
   "id": "c318adda-b4f1-4b2f-a94f-6c18a83ffd79",
   "metadata": {},
   "source": [
    "Какой оптимальный набор для похода для 6 рюкзаков разной вместимости (1-6)\n",
    "Предмет существует в единственном количестве"
   ]
  },
  {
   "cell_type": "code",
   "execution_count": 341,
   "id": "7eb9be23-a1f6-4ae9-8199-097ef4f3ab86",
   "metadata": {},
   "outputs": [],
   "source": [
    "lst = sorted(lst, key=lambda s: s[1])"
   ]
  },
  {
   "cell_type": "code",
   "execution_count": 342,
   "id": "2e0069bf-b5cd-47cb-bbc2-7c1f20351faa",
   "metadata": {},
   "outputs": [],
   "source": [
    "import pandas as pd"
   ]
  },
  {
   "cell_type": "code",
   "execution_count": 343,
   "id": "3457d50b-5af2-4059-82ce-6cb02efa680e",
   "metadata": {},
   "outputs": [],
   "source": [
    "ind = [lst[i][0] for i in range(len(lst))]"
   ]
  },
  {
   "cell_type": "code",
   "execution_count": 344,
   "id": "40858257-ba84-4839-aed1-6a4dd5f88005",
   "metadata": {},
   "outputs": [
    {
     "data": {
      "text/plain": [
       "['книга', 'камера', 'еда', 'куртка', 'вода']"
      ]
     },
     "execution_count": 344,
     "metadata": {},
     "output_type": "execute_result"
    }
   ],
   "source": [
    "ind"
   ]
  },
  {
   "cell_type": "code",
   "execution_count": 345,
   "id": "8bd30f1d-cb1d-4b97-b636-671b4ce44a4e",
   "metadata": {},
   "outputs": [],
   "source": [
    "col = [int(i) for i in range(1, 7)]"
   ]
  },
  {
   "cell_type": "code",
   "execution_count": 346,
   "id": "afe64e40-2281-47c9-8dbf-a231f50b8167",
   "metadata": {},
   "outputs": [
    {
     "data": {
      "text/plain": [
       "[1, 2, 3, 4, 5, 6]"
      ]
     },
     "execution_count": 346,
     "metadata": {},
     "output_type": "execute_result"
    }
   ],
   "source": [
    "col"
   ]
  },
  {
   "cell_type": "code",
   "execution_count": 347,
   "id": "f8b5186e-8ac5-4f0c-84c7-b7dcf81d9b73",
   "metadata": {},
   "outputs": [],
   "source": [
    "df = pd.DataFrame(index=ind, columns=col)"
   ]
  },
  {
   "cell_type": "code",
   "execution_count": 348,
   "id": "ba1b914f-525a-48b6-97b9-5d3bee69692d",
   "metadata": {},
   "outputs": [
    {
     "data": {
      "text/html": [
       "<div>\n",
       "<style scoped>\n",
       "    .dataframe tbody tr th:only-of-type {\n",
       "        vertical-align: middle;\n",
       "    }\n",
       "\n",
       "    .dataframe tbody tr th {\n",
       "        vertical-align: top;\n",
       "    }\n",
       "\n",
       "    .dataframe thead th {\n",
       "        text-align: right;\n",
       "    }\n",
       "</style>\n",
       "<table border=\"1\" class=\"dataframe\">\n",
       "  <thead>\n",
       "    <tr style=\"text-align: right;\">\n",
       "      <th></th>\n",
       "      <th>1</th>\n",
       "      <th>2</th>\n",
       "      <th>3</th>\n",
       "      <th>4</th>\n",
       "      <th>5</th>\n",
       "      <th>6</th>\n",
       "    </tr>\n",
       "  </thead>\n",
       "  <tbody>\n",
       "    <tr>\n",
       "      <th>книга</th>\n",
       "      <td>NaN</td>\n",
       "      <td>NaN</td>\n",
       "      <td>NaN</td>\n",
       "      <td>NaN</td>\n",
       "      <td>NaN</td>\n",
       "      <td>NaN</td>\n",
       "    </tr>\n",
       "    <tr>\n",
       "      <th>камера</th>\n",
       "      <td>NaN</td>\n",
       "      <td>NaN</td>\n",
       "      <td>NaN</td>\n",
       "      <td>NaN</td>\n",
       "      <td>NaN</td>\n",
       "      <td>NaN</td>\n",
       "    </tr>\n",
       "    <tr>\n",
       "      <th>еда</th>\n",
       "      <td>NaN</td>\n",
       "      <td>NaN</td>\n",
       "      <td>NaN</td>\n",
       "      <td>NaN</td>\n",
       "      <td>NaN</td>\n",
       "      <td>NaN</td>\n",
       "    </tr>\n",
       "    <tr>\n",
       "      <th>куртка</th>\n",
       "      <td>NaN</td>\n",
       "      <td>NaN</td>\n",
       "      <td>NaN</td>\n",
       "      <td>NaN</td>\n",
       "      <td>NaN</td>\n",
       "      <td>NaN</td>\n",
       "    </tr>\n",
       "    <tr>\n",
       "      <th>вода</th>\n",
       "      <td>NaN</td>\n",
       "      <td>NaN</td>\n",
       "      <td>NaN</td>\n",
       "      <td>NaN</td>\n",
       "      <td>NaN</td>\n",
       "      <td>NaN</td>\n",
       "    </tr>\n",
       "  </tbody>\n",
       "</table>\n",
       "</div>"
      ],
      "text/plain": [
       "          1    2    3    4    5    6\n",
       "книга   NaN  NaN  NaN  NaN  NaN  NaN\n",
       "камера  NaN  NaN  NaN  NaN  NaN  NaN\n",
       "еда     NaN  NaN  NaN  NaN  NaN  NaN\n",
       "куртка  NaN  NaN  NaN  NaN  NaN  NaN\n",
       "вода    NaN  NaN  NaN  NaN  NaN  NaN"
      ]
     },
     "execution_count": 348,
     "metadata": {},
     "output_type": "execute_result"
    }
   ],
   "source": [
    "df"
   ]
  },
  {
   "cell_type": "code",
   "execution_count": 349,
   "id": "99bf7182-483e-4002-8f93-28bcaec49f72",
   "metadata": {},
   "outputs": [],
   "source": [
    "maxim = 0\n",
    "lst2 = list(filter(lambda x: (x[2], x[1] <= 6), lst))\n",
    "for i in range(1, 7):\n",
    "    capacity = i\n",
    "    for j in range(len(lst)):\n",
    "        try:\n",
    "            lst2 = list(filter(lambda x: x[1]<= capacity, lst))\n",
    "            lst3 = sorted(lst2, key = lambda x: x[2], reverse= True) \n",
    "            df.loc[str(lst3[0][0]), i] = lst3[0][2]\n",
    "            capacity -= lst3[0][1]\n",
    "            for k in range(1, len(lst3)):\n",
    "                if capacity >= lst3[k][1]:\n",
    "                    df.loc[lst3[k][0], i] = lst3[k][2]\n",
    "                    capacity -= lst3[k][1]\n",
    "        except IndexError:\n",
    "            pass"
   ]
  },
  {
   "cell_type": "code",
   "execution_count": 350,
   "id": "2f887b44-f2b5-4414-bcee-83228d011ede",
   "metadata": {},
   "outputs": [
    {
     "data": {
      "text/html": [
       "<div>\n",
       "<style scoped>\n",
       "    .dataframe tbody tr th:only-of-type {\n",
       "        vertical-align: middle;\n",
       "    }\n",
       "\n",
       "    .dataframe tbody tr th {\n",
       "        vertical-align: top;\n",
       "    }\n",
       "\n",
       "    .dataframe thead th {\n",
       "        text-align: right;\n",
       "    }\n",
       "</style>\n",
       "<table border=\"1\" class=\"dataframe\">\n",
       "  <thead>\n",
       "    <tr style=\"text-align: right;\">\n",
       "      <th></th>\n",
       "      <th>1</th>\n",
       "      <th>2</th>\n",
       "      <th>3</th>\n",
       "      <th>4</th>\n",
       "      <th>5</th>\n",
       "      <th>6</th>\n",
       "    </tr>\n",
       "  </thead>\n",
       "  <tbody>\n",
       "    <tr>\n",
       "      <th>книга</th>\n",
       "      <td>NaN</td>\n",
       "      <td>NaN</td>\n",
       "      <td>NaN</td>\n",
       "      <td>NaN</td>\n",
       "      <td>NaN</td>\n",
       "      <td>NaN</td>\n",
       "    </tr>\n",
       "    <tr>\n",
       "      <th>камера</th>\n",
       "      <td>6</td>\n",
       "      <td>NaN</td>\n",
       "      <td>NaN</td>\n",
       "      <td>6</td>\n",
       "      <td>NaN</td>\n",
       "      <td>6</td>\n",
       "    </tr>\n",
       "    <tr>\n",
       "      <th>еда</th>\n",
       "      <td>NaN</td>\n",
       "      <td>9</td>\n",
       "      <td>NaN</td>\n",
       "      <td>NaN</td>\n",
       "      <td>9</td>\n",
       "      <td>9</td>\n",
       "    </tr>\n",
       "    <tr>\n",
       "      <th>куртка</th>\n",
       "      <td>NaN</td>\n",
       "      <td>NaN</td>\n",
       "      <td>NaN</td>\n",
       "      <td>NaN</td>\n",
       "      <td>NaN</td>\n",
       "      <td>NaN</td>\n",
       "    </tr>\n",
       "    <tr>\n",
       "      <th>вода</th>\n",
       "      <td>NaN</td>\n",
       "      <td>NaN</td>\n",
       "      <td>10</td>\n",
       "      <td>10</td>\n",
       "      <td>10</td>\n",
       "      <td>10</td>\n",
       "    </tr>\n",
       "  </tbody>\n",
       "</table>\n",
       "</div>"
      ],
      "text/plain": [
       "          1    2    3    4    5    6\n",
       "книга   NaN  NaN  NaN  NaN  NaN  NaN\n",
       "камера    6  NaN  NaN    6  NaN    6\n",
       "еда     NaN    9  NaN  NaN    9    9\n",
       "куртка  NaN  NaN  NaN  NaN  NaN  NaN\n",
       "вода    NaN  NaN   10   10   10   10"
      ]
     },
     "execution_count": 350,
     "metadata": {},
     "output_type": "execute_result"
    }
   ],
   "source": [
    "df"
   ]
  },
  {
   "cell_type": "code",
   "execution_count": null,
   "id": "a432b537-a062-4cba-812c-5d720e77ef8a",
   "metadata": {},
   "outputs": [],
   "source": []
  }
 ],
 "metadata": {
  "kernelspec": {
   "display_name": "Python 3 (ipykernel)",
   "language": "python",
   "name": "python3"
  },
  "language_info": {
   "codemirror_mode": {
    "name": "ipython",
    "version": 3
   },
   "file_extension": ".py",
   "mimetype": "text/x-python",
   "name": "python",
   "nbconvert_exporter": "python",
   "pygments_lexer": "ipython3",
   "version": "3.9.7"
  }
 },
 "nbformat": 4,
 "nbformat_minor": 5
}
