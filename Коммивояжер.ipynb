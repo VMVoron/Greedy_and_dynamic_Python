{
 "cells": [
  {
   "cell_type": "code",
   "execution_count": null,
   "id": "d4318f24-2b51-4f7a-a4ea-57df5d2d9047",
   "metadata": {},
   "outputs": [],
   "source": [
    "import matplotlib.pyplot as plt\n",
    "import numpy as np\n",
    "from numpy import exp,sqrt"
   ]
  },
  {
   "cell_type": "code",
   "execution_count": 11,
   "id": "bd57e180-d42c-4bab-a8ff-c960bbcd15d7",
   "metadata": {},
   "outputs": [],
   "source": [
    "n=6; m=100; ib=3; way=[]; a=0\n",
    "X=np.random.uniform(a,m,n)\n",
    "Y=np.random.uniform(a,m,n)"
   ]
  },
  {
   "cell_type": "code",
   "execution_count": 12,
   "id": "def36f9e-6e4a-4df7-b015-f48d7d967a21",
   "metadata": {},
   "outputs": [
    {
     "name": "stdout",
     "output_type": "stream",
     "text": [
      "[74.63101205 97.28693258  8.27152209 73.16607691 92.38998655 94.9262968 ]\n",
      "[79.14466115 58.25438236 40.37467764 48.50892691 17.48862013 33.8566454 ]\n",
      "6\n"
     ]
    }
   ],
   "source": [
    "print(X, Y, n, sep='\\n')"
   ]
  },
  {
   "cell_type": "code",
   "execution_count": 13,
   "id": "2d727a4e-bba3-49ac-9b7a-aaa9839866e5",
   "metadata": {},
   "outputs": [],
   "source": [
    "M = np.zeros([n,n]) # Шаблон матрицы относительных расстояний между пунктами"
   ]
  },
  {
   "cell_type": "code",
   "execution_count": 14,
   "id": "249e5149-484e-4252-a9e5-28df709b80fa",
   "metadata": {},
   "outputs": [
    {
     "data": {
      "text/plain": [
       "array([[0., 0., 0., 0., 0., 0.],\n",
       "       [0., 0., 0., 0., 0., 0.],\n",
       "       [0., 0., 0., 0., 0., 0.],\n",
       "       [0., 0., 0., 0., 0., 0.],\n",
       "       [0., 0., 0., 0., 0., 0.],\n",
       "       [0., 0., 0., 0., 0., 0.]])"
      ]
     },
     "execution_count": 14,
     "metadata": {},
     "output_type": "execute_result"
    }
   ],
   "source": [
    "M"
   ]
  },
  {
   "cell_type": "code",
   "execution_count": 15,
   "id": "cf29773c-3a81-4ad3-8e6c-1bc587d1eb41",
   "metadata": {},
   "outputs": [],
   "source": [
    "for i in np.arange(0, n, 1):\n",
    "         for j in np.arange(0, n, 1):\n",
    "                  if i != j:\n",
    "                           M[i,j]=sqrt((X[i]-X[j])**2+(Y[i]-Y[j])**2) # Заполнение матрицы\n",
    "                  else:\n",
    "                           M[i,j]=float('inf')#Заполнение главной диагонали матрицы           \n",
    "way.append(ib)"
   ]
  },
  {
   "cell_type": "code",
   "execution_count": 18,
   "id": "71706f7c-87d7-4e8b-a9a7-29a0fc6d262b",
   "metadata": {},
   "outputs": [
    {
     "name": "stdout",
     "output_type": "stream",
     "text": [
      "[[        inf 30.81711347 76.85501629 30.67073927 64.16267272 49.62764304]\n",
      " [30.81711347         inf 90.79332103 26.0151798  41.05882914 24.51167416]\n",
      " [76.85501629 90.79332103         inf 65.4023643  87.17618763 86.89956688]\n",
      " [30.67073927 26.0151798  65.4023643          inf 36.49408356 26.23350001]\n",
      " [64.16267272 41.05882914 87.17618763 36.49408356         inf 16.56336684]\n",
      " [49.62764304 24.51167416 86.89956688 26.23350001 16.56336684         inf]]\n"
     ]
    }
   ],
   "source": [
    "print(M)"
   ]
  },
  {
   "cell_type": "code",
   "execution_count": 19,
   "id": "f6b22fdc-a2b7-4a4c-b78b-368ea18b42c4",
   "metadata": {},
   "outputs": [],
   "source": [
    "for i in np.arange(1,n,1):\n",
    "         s=[]\n",
    "         for j in np.arange(0,n,1):                  \n",
    "                  s.append(M[way[i-1],j])\n",
    "         way.append(s.index(min(s))) # Индексы пунктов ближайших городов соседей\n",
    "         for j in np.arange(0,i,1):\n",
    "                  M[way[i],way[j]]=float('inf')\n",
    "                  M[way[i],way[j]]=float('inf')"
   ]
  },
  {
   "cell_type": "code",
   "execution_count": 20,
   "id": "1a9df973-df49-4ee6-8bd4-f91da7764acc",
   "metadata": {},
   "outputs": [
    {
     "data": {
      "text/plain": [
       "[3, 1, 5, 4, 0, 2]"
      ]
     },
     "execution_count": 20,
     "metadata": {},
     "output_type": "execute_result"
    }
   ],
   "source": [
    "way"
   ]
  },
  {
   "cell_type": "code",
   "execution_count": 21,
   "id": "b5debe24-4905-4358-ba16-f6058c7202ad",
   "metadata": {},
   "outputs": [
    {
     "data": {
      "image/png": "[encoded data removed]",
      "text/plain": [
       "<Figure size 432x288 with 1 Axes>"
      ]
     },
     "metadata": {
      "needs_background": "light"
     },
     "output_type": "display_data"
    }
   ],
   "source": [
    "S=sum([sqrt((X[way[i]]-X[way[i+1]])**2+(Y[way[i]]-Y[way[i+1]])**2) for i in np.arange(0,n-1,1)])+ sqrt((X[way[n-1]]-X[way[0]])**2+(Y[way[n-1]]-Y[way[0]])**2)                      \n",
    "plt.title('Общий путь-%s.Номер города-%i.Всего городов -%i.\\n Координаты X,Y случайные числа от %i до %i'%(round(S,3),ib,n,a,m), size=14)\n",
    "X1=[X[way[i]] for i in np.arange(0,n,1)]\n",
    "Y1=[Y[way[i]] for i in np.arange(0,n,1)]    \n",
    "plt.plot(X1, Y1, color='r', linestyle=' ', marker='o')\n",
    "plt.plot(X1, Y1, color='b', linewidth=1)   \n",
    "X2=[X[way[n-1]],X[way[0]]]\n",
    "Y2=[Y[way[n-1]],Y[way[0]]]\n",
    "plt.plot(X2, Y2, color='g', linewidth=2,  linestyle='-', label='Путь от  последнего \\n к первому городу') \n",
    "plt.legend(loc='best')\n",
    "plt.grid(True)\n",
    "plt.show()  "
   ]
  }
 ],
 "metadata": {
  "kernelspec": {
   "display_name": "Python 3 (ipykernel)",
   "language": "python",
   "name": "python3"
  },
  "language_info": {
   "codemirror_mode": {
    "name": "ipython",
    "version": 3
   },
   "file_extension": ".py",
   "mimetype": "text/x-python",
   "name": "python",
   "nbconvert_exporter": "python",
   "pygments_lexer": "ipython3",
   "version": "3.9.7"
  }
 },
 "nbformat": 4,
 "nbformat_minor": 5
}
