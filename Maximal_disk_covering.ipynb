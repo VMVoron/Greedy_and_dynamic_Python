{
 "cells": [
  {
   "cell_type": "markdown",
   "id": "fbbc2ca2-bad7-4d7e-999e-add4031fb4a3",
   "metadata": {},
   "source": [
    "Дана карта с целями, координаты целей записаны в файле в целочисленном формате\n",
    "Задача: навести ракету с радиусом поражения r так, чтобы количество поражённых объектов было максимально"
   ]
  },
  {
   "cell_type": "code",
   "execution_count": 162,
   "id": "2ec75bbf-4a80-45cd-84fd-4b48fae62fef",
   "metadata": {},
   "outputs": [
    {
     "name": "stdin",
     "output_type": "stream",
     "text": [
      "Введите радиус поражения ракеты: 5\n"
     ]
    }
   ],
   "source": [
    "r = int(input('Введите радиус поражения ракеты:'))"
   ]
  },
  {
   "cell_type": "markdown",
   "id": "12abe633-927a-4264-8caf-56c3702748cd",
   "metadata": {},
   "source": [
    "r = 5"
   ]
  },
  {
   "cell_type": "code",
   "execution_count": 163,
   "id": "54012d5c-91a3-48d1-8a30-6b5a09cd68ce",
   "metadata": {},
   "outputs": [],
   "source": [
    "cords={}\n",
    "with open(\"coords.txt\", \"r\") as file:\n",
    "        content=file.read()\n",
    "        j = 0\n",
    "        for i in content.split('\\n'):\n",
    "            j += 1\n",
    "            c = tuple(map(int, i.split(',')))\n",
    "            cords[j] = c"
   ]
  },
  {
   "cell_type": "code",
   "execution_count": 164,
   "id": "175524ec-f5cb-4b9b-8c3d-3e562ccd5463",
   "metadata": {},
   "outputs": [],
   "source": [
    "if len(cords) == 0:\n",
    "    print(\"Целей не обнаружено\")\n",
    "elif len(cords) == 1:\n",
    "    target = cords[1]\n",
    "    maxim = 1\n",
    "elif len(cords) == 2:\n",
    "    if (cords[1][0] - cords[2][0])**2 + (cords[1][1] - cords[2][1])**2 > r**2:\n",
    "        target = cords[1]     \n",
    "        maxim = 1"
   ]
  },
  {
   "cell_type": "code",
   "execution_count": 165,
   "id": "dced6bdd-16b0-4308-999d-0064d3ed3ca7",
   "metadata": {},
   "outputs": [
    {
     "name": "stdout",
     "output_type": "stream",
     "text": [
      "(1, 1)\n",
      "(50, 50)\n",
      "(51, 51)\n",
      "(52, 52)\n",
      "(53, 53)\n",
      "(50, 53)\n",
      "(97, 16)\n",
      "(14, 53)\n",
      "(78, 68)\n"
     ]
    }
   ],
   "source": [
    "for i in range(1, 10):\n",
    "    print(cords[i])"
   ]
  },
  {
   "cell_type": "markdown",
   "id": "210d28cc-e2ae-4c7e-9f74-8a9d0c547d6a",
   "metadata": {},
   "source": [
    "Посчитаем расстояния между точками"
   ]
  },
  {
   "cell_type": "code",
   "execution_count": 166,
   "id": "3244aeb2-1fec-4cbe-8d29-fd2f7322a902",
   "metadata": {},
   "outputs": [],
   "source": [
    "def dist(a, b):\n",
    "    d = [a[0] - b[0], a[1] - b[1]]\n",
    "    return (d[0] * d[0] + d[1] * d[1]) \n",
    "\n",
    "D = {}\n",
    "\n",
    "for city1, cords1 in cords.items():\n",
    "    D[city1] = {}\n",
    "    for city2, cords2 in cords.items():\n",
    "        if city2 != city1: D[city1][city2] = dist(cords1, cords2)   \n",
    "\n",
    "dist = []        \n",
    "for city1, v in D.items():\n",
    "    for city2, d in v.items():\n",
    "        dist.append((city1, city2, d))"
   ]
  },
  {
   "cell_type": "code",
   "execution_count": 167,
   "id": "e0643eb6-b80f-4486-b791-fead7bc0f975",
   "metadata": {},
   "outputs": [
    {
     "data": {
      "text/plain": [
       "[(1, 3, 5000),\n",
       " (1, 4, 5202),\n",
       " (1, 5, 5408),\n",
       " (1, 6, 5105),\n",
       " (1, 7, 9441),\n",
       " (1, 8, 2873),\n",
       " (1, 9, 10418),\n",
       " (1, 10, 6705),\n",
       " (1, 11, 4329)]"
      ]
     },
     "execution_count": 167,
     "metadata": {},
     "output_type": "execute_result"
    }
   ],
   "source": [
    "dist[1:10]"
   ]
  },
  {
   "cell_type": "code",
   "execution_count": 168,
   "id": "5bc3e9d2-a4a6-4ad4-be3c-3f068f41dd87",
   "metadata": {},
   "outputs": [],
   "source": [
    "min_dist = sorted(dist, key=lambda attr: attr[2]) "
   ]
  },
  {
   "cell_type": "code",
   "execution_count": 169,
   "id": "0a2f85de-a16f-435b-9dac-053f6097b62a",
   "metadata": {},
   "outputs": [],
   "source": [
    "min_dist2 = list(filter(lambda x: (0 < x[2] <= r**2), min_dist))"
   ]
  },
  {
   "cell_type": "markdown",
   "id": "099d82b7-7557-4af3-9c3e-48da847db95e",
   "metadata": {},
   "source": [
    "Найдем пары точек с расстоянием меньше, чем r в квадрате ( так как мы не извлекали корень в формуле расстояния)"
   ]
  },
  {
   "cell_type": "code",
   "execution_count": 170,
   "id": "5865fa24-a98f-44a0-99d3-3ffb150a96fd",
   "metadata": {},
   "outputs": [
    {
     "name": "stdout",
     "output_type": "stream",
     "text": [
      "[(1, 12, 1), (2, 62, 1), (3, 62, 1), (12, 1, 1), (57, 62, 1), (62, 2, 1), (62, 3, 1), (62, 57, 1), (2, 3, 2), (3, 2, 2), (3, 4, 2), (3, 57, 2), (4, 3, 2), (4, 5, 2), (5, 4, 2), (19, 58, 2), (33, 115, 2), (57, 3, 2), (58, 19, 2), (58, 75, 2), (75, 58, 2), (89, 115, 2), (112, 113, 2), (113, 112, 2), (115, 33, 2), (115, 89, 2), (61, 62, 4), (62, 61, 4), (3, 6, 5), (3, 61, 5), (4, 6, 5), (4, 61, 5), (4, 62, 5), (6, 3, 5), (6, 4, 5), (6, 35, 5), (6, 91, 5), (12, 112, 5), (13, 14, 5), (13, 70, 5), (14, 13, 5), (14, 69, 5), (35, 6, 5), (61, 3, 5), (61, 4, 5), (62, 4, 5), (69, 14, 5), (69, 70, 5), (70, 13, 5), (70, 69, 5), (91, 6, 5), (112, 12, 5), (2, 4, 8), (2, 35, 8), (2, 91, 8), (3, 5, 8), (4, 2, 8), (4, 57, 8), (5, 3, 8), (26, 114, 8), (35, 2, 8), (35, 57, 8), (57, 4, 8), (57, 35, 8), (57, 91, 8), (82, 114, 8), (91, 2, 8), (91, 57, 8), (114, 26, 8), (114, 82, 8), (2, 6, 9), (2, 61, 9), (5, 6, 9), (5, 61, 9), (6, 2, 9), (6, 5, 9), (6, 57, 9), (57, 6, 9), (57, 61, 9), (61, 2, 9), (61, 5, 9), (61, 57, 9), (1, 112, 10), (3, 35, 10), (3, 91, 10), (6, 62, 10), (21, 45, 10), (21, 101, 10), (35, 3, 10), (45, 21, 10), (45, 77, 10), (62, 6, 10), (77, 45, 10), (77, 101, 10), (91, 3, 10), (101, 21, 10), (101, 77, 10), (112, 1, 10), (5, 62, 13), (12, 113, 13), (35, 58, 13), (35, 62, 13), (58, 35, 13), (58, 91, 13), (62, 5, 13), (62, 35, 13), (62, 91, 13), (91, 58, 13), (91, 62, 13), (113, 12, 13), (117, 119, 13), (119, 117, 13), (4, 35, 16), (4, 91, 16), (35, 4, 16), (41, 113, 16), (51, 118, 16), (91, 4, 16), (97, 113, 16), (107, 118, 16), (113, 41, 16), (113, 97, 16), (118, 51, 16), (118, 107, 16), (23, 31, 17), (23, 87, 17), (30, 63, 17), (31, 23, 17), (31, 79, 17), (63, 30, 17), (63, 86, 17), (79, 31, 17), (79, 87, 17), (86, 63, 17), (87, 23, 17), (87, 79, 17), (2, 5, 18), (5, 2, 18), (5, 57, 18), (6, 61, 18), (57, 5, 18), (61, 6, 18), (1, 113, 20), (21, 51, 20), (21, 107, 20), (51, 21, 20), (51, 77, 20), (77, 51, 20), (77, 107, 20), (107, 21, 20), (107, 77, 20), (113, 1, 20), (2, 58, 25), (19, 35, 25), (19, 91, 25), (35, 19, 25), (35, 75, 25), (57, 58, 25), (58, 2, 25), (58, 57, 25), (59, 115, 25), (75, 35, 25), (75, 91, 25), (91, 19, 25), (91, 75, 25), (115, 59, 25)]"
     ]
    }
   ],
   "source": [
    "print(min_dist2[::], end='')"
   ]
  },
  {
   "cell_type": "code",
   "execution_count": 171,
   "id": "f71c6b5f-067a-4e3f-a0fc-274458c23494",
   "metadata": {},
   "outputs": [
    {
     "name": "stdout",
     "output_type": "stream",
     "text": [
      "1 <-> 12  dist =  1\n",
      "2 <-> 62  dist =  1\n",
      "3 <-> 62  dist =  1\n",
      "12 <-> 1  dist =  1\n",
      "57 <-> 62  dist =  1\n",
      "62 <-> 2  dist =  1\n",
      "62 <-> 3  dist =  1\n",
      "62 <-> 57  dist =  1\n",
      "2 <-> 3  dist =  2\n",
      "3 <-> 2  dist =  2\n",
      "3 <-> 4  dist =  2\n",
      "3 <-> 57  dist =  2\n",
      "4 <-> 3  dist =  2\n",
      "4 <-> 5  dist =  2\n",
      "5 <-> 4  dist =  2\n",
      "19 <-> 58  dist =  2\n",
      "33 <-> 115  dist =  2\n",
      "57 <-> 3  dist =  2\n",
      "58 <-> 19  dist =  2\n",
      "58 <-> 75  dist =  2\n",
      "75 <-> 58  dist =  2\n",
      "89 <-> 115  dist =  2\n",
      "112 <-> 113  dist =  2\n",
      "113 <-> 112  dist =  2\n",
      "115 <-> 33  dist =  2\n",
      "115 <-> 89  dist =  2\n",
      "61 <-> 62  dist =  4\n",
      "62 <-> 61  dist =  4\n",
      "3 <-> 6  dist =  5\n",
      "3 <-> 61  dist =  5\n",
      "4 <-> 6  dist =  5\n",
      "4 <-> 61  dist =  5\n",
      "4 <-> 62  dist =  5\n",
      "6 <-> 3  dist =  5\n",
      "6 <-> 4  dist =  5\n",
      "6 <-> 35  dist =  5\n",
      "6 <-> 91  dist =  5\n",
      "12 <-> 112  dist =  5\n",
      "13 <-> 14  dist =  5\n",
      "13 <-> 70  dist =  5\n",
      "14 <-> 13  dist =  5\n",
      "14 <-> 69  dist =  5\n",
      "35 <-> 6  dist =  5\n",
      "61 <-> 3  dist =  5\n",
      "61 <-> 4  dist =  5\n",
      "62 <-> 4  dist =  5\n",
      "69 <-> 14  dist =  5\n",
      "69 <-> 70  dist =  5\n",
      "70 <-> 13  dist =  5\n",
      "70 <-> 69  dist =  5\n",
      "91 <-> 6  dist =  5\n",
      "112 <-> 12  dist =  5\n",
      "2 <-> 4  dist =  8\n",
      "2 <-> 35  dist =  8\n",
      "2 <-> 91  dist =  8\n",
      "3 <-> 5  dist =  8\n",
      "4 <-> 2  dist =  8\n",
      "4 <-> 57  dist =  8\n",
      "5 <-> 3  dist =  8\n",
      "26 <-> 114  dist =  8\n",
      "35 <-> 2  dist =  8\n",
      "35 <-> 57  dist =  8\n",
      "57 <-> 4  dist =  8\n",
      "57 <-> 35  dist =  8\n",
      "57 <-> 91  dist =  8\n",
      "82 <-> 114  dist =  8\n",
      "91 <-> 2  dist =  8\n",
      "91 <-> 57  dist =  8\n",
      "114 <-> 26  dist =  8\n",
      "114 <-> 82  dist =  8\n",
      "2 <-> 6  dist =  9\n",
      "2 <-> 61  dist =  9\n",
      "5 <-> 6  dist =  9\n",
      "5 <-> 61  dist =  9\n",
      "6 <-> 2  dist =  9\n",
      "6 <-> 5  dist =  9\n",
      "6 <-> 57  dist =  9\n",
      "57 <-> 6  dist =  9\n",
      "57 <-> 61  dist =  9\n",
      "61 <-> 2  dist =  9\n",
      "61 <-> 5  dist =  9\n",
      "61 <-> 57  dist =  9\n",
      "1 <-> 112  dist =  10\n",
      "3 <-> 35  dist =  10\n",
      "3 <-> 91  dist =  10\n",
      "6 <-> 62  dist =  10\n",
      "21 <-> 45  dist =  10\n",
      "21 <-> 101  dist =  10\n",
      "35 <-> 3  dist =  10\n",
      "45 <-> 21  dist =  10\n",
      "45 <-> 77  dist =  10\n",
      "62 <-> 6  dist =  10\n",
      "77 <-> 45  dist =  10\n",
      "77 <-> 101  dist =  10\n",
      "91 <-> 3  dist =  10\n",
      "101 <-> 21  dist =  10\n",
      "101 <-> 77  dist =  10\n",
      "112 <-> 1  dist =  10\n",
      "5 <-> 62  dist =  13\n",
      "12 <-> 113  dist =  13\n",
      "35 <-> 58  dist =  13\n",
      "35 <-> 62  dist =  13\n",
      "58 <-> 35  dist =  13\n",
      "58 <-> 91  dist =  13\n",
      "62 <-> 5  dist =  13\n",
      "62 <-> 35  dist =  13\n",
      "62 <-> 91  dist =  13\n",
      "91 <-> 58  dist =  13\n",
      "91 <-> 62  dist =  13\n",
      "113 <-> 12  dist =  13\n",
      "117 <-> 119  dist =  13\n",
      "119 <-> 117  dist =  13\n",
      "4 <-> 35  dist =  16\n",
      "4 <-> 91  dist =  16\n",
      "35 <-> 4  dist =  16\n",
      "41 <-> 113  dist =  16\n",
      "51 <-> 118  dist =  16\n",
      "91 <-> 4  dist =  16\n",
      "97 <-> 113  dist =  16\n",
      "107 <-> 118  dist =  16\n",
      "113 <-> 41  dist =  16\n",
      "113 <-> 97  dist =  16\n",
      "118 <-> 51  dist =  16\n",
      "118 <-> 107  dist =  16\n",
      "23 <-> 31  dist =  17\n",
      "23 <-> 87  dist =  17\n",
      "30 <-> 63  dist =  17\n",
      "31 <-> 23  dist =  17\n",
      "31 <-> 79  dist =  17\n",
      "63 <-> 30  dist =  17\n",
      "63 <-> 86  dist =  17\n",
      "79 <-> 31  dist =  17\n",
      "79 <-> 87  dist =  17\n",
      "86 <-> 63  dist =  17\n",
      "87 <-> 23  dist =  17\n",
      "87 <-> 79  dist =  17\n",
      "2 <-> 5  dist =  18\n",
      "5 <-> 2  dist =  18\n",
      "5 <-> 57  dist =  18\n",
      "6 <-> 61  dist =  18\n",
      "57 <-> 5  dist =  18\n",
      "61 <-> 6  dist =  18\n",
      "1 <-> 113  dist =  20\n",
      "21 <-> 51  dist =  20\n",
      "21 <-> 107  dist =  20\n",
      "51 <-> 21  dist =  20\n",
      "51 <-> 77  dist =  20\n",
      "77 <-> 51  dist =  20\n",
      "77 <-> 107  dist =  20\n",
      "107 <-> 21  dist =  20\n",
      "107 <-> 77  dist =  20\n",
      "113 <-> 1  dist =  20\n",
      "2 <-> 58  dist =  25\n",
      "19 <-> 35  dist =  25\n",
      "19 <-> 91  dist =  25\n",
      "35 <-> 19  dist =  25\n",
      "35 <-> 75  dist =  25\n",
      "57 <-> 58  dist =  25\n",
      "58 <-> 2  dist =  25\n",
      "58 <-> 57  dist =  25\n",
      "59 <-> 115  dist =  25\n",
      "75 <-> 35  dist =  25\n",
      "75 <-> 91  dist =  25\n",
      "91 <-> 19  dist =  25\n",
      "91 <-> 75  dist =  25\n",
      "115 <-> 59  dist =  25\n"
     ]
    }
   ],
   "source": [
    "for i, j, k in min_dist2:\n",
    "    print(i, '<->', j, ' dist = ', k, end='\\n')"
   ]
  },
  {
   "cell_type": "code",
   "execution_count": 172,
   "id": "b08b2b22-5d2b-408b-98e3-835780f1996a",
   "metadata": {},
   "outputs": [],
   "source": [
    "from math import sqrt\n",
    "maxim = 0"
   ]
  },
  {
   "cell_type": "code",
   "execution_count": 173,
   "id": "3642e25d-6352-4c9d-8961-b47ae3312546",
   "metadata": {},
   "outputs": [
    {
     "name": "stdout",
     "output_type": "stream",
     "text": [
      "Наведение ракеты завершено\n"
     ]
    }
   ],
   "source": [
    "for i, j, k in min_dist2:\n",
    "    horda = [cords[i], cords[j]]\n",
    "    x1 = horda[0][0]; x2 = horda[1][0]\n",
    "    y1 = horda[0][1]; y2 = horda[1][1]\n",
    "    d = sqrt((x1-x2)*(x1-x2) + (y1-y2)*(y1-y2))\n",
    "    h = sqrt(r * r - (d/2) * (d/2));\n",
    "\n",
    "    x01 = x1 + (x2 - x1)/2 + h * (y2 - y1) / d\n",
    "    y01 = y1 + (y2 - y1)/2 - h * (x2 - x1) / d\n",
    "\n",
    "    x02 = x1 + (x2 - x1)/2 - h * (y2 - y1) / d\n",
    "    y02 = y1 + (y2 - y1)/2 + h * (x2 - x1) / d\n",
    "    \n",
    "    cnt1 = 0; cnt2 = 0\n",
    "    \n",
    "    for i in cords:\n",
    "        if (cords[i][0] - x01)**2 + (cords[i][1] - y01)**2  <= r**2:\n",
    "            cnt1 += 1\n",
    "        elif (cords[i][0] - x02)**2 + (cords[i][1] - y02)**2  <= r**2:\n",
    "            cnt2 += 1\n",
    "    if cnt1 > maxim: maxim = cnt1; target = (x01, y01)\n",
    "    elif cnt2 > maxim: maxim = cnt2; target = (x02, y02)\n",
    "print('Наведение ракеты завершено')"
   ]
  },
  {
   "cell_type": "markdown",
   "id": "17b3cc28-b39f-4d7b-affc-7d7e78de6b36",
   "metadata": {},
   "source": [
    "x01, y01; x02, y02 - центры окружностей"
   ]
  },
  {
   "cell_type": "code",
   "execution_count": 174,
   "id": "79bc712b-b526-434f-bd26-a543a11b7376",
   "metadata": {},
   "outputs": [
    {
     "name": "stdout",
     "output_type": "stream",
     "text": [
      "Координаты цели (48.230303992915275, 51.5)\n",
      "Число поражённых целей 13\n"
     ]
    }
   ],
   "source": [
    "print('Координаты цели', target)\n",
    "print('Число поражённых целей', maxim)"
   ]
  },
  {
   "cell_type": "code",
   "execution_count": 175,
   "id": "bc32a0d6-0368-44d2-985a-dd6f134ced0d",
   "metadata": {},
   "outputs": [],
   "source": [
    "xx = []\n",
    "yy = []\n",
    "for i in cords:\n",
    "    xx.append(cords[i][0])\n",
    "    yy.append(cords[i][1])  "
   ]
  },
  {
   "cell_type": "code",
   "execution_count": 176,
   "id": "9b7a4e93-df48-4e0c-b961-ae7b426ff3e5",
   "metadata": {},
   "outputs": [
    {
     "data": {
      "image/png": "[encoded data removed]",
      "text/plain": [
       "<Figure size 960x960 with 1 Axes>"
      ]
     },
     "metadata": {
      "needs_background": "light"
     },
     "output_type": "display_data"
    }
   ],
   "source": [
    "from matplotlib import pyplot as plt\n",
    "plt.figure(figsize=(8, 8), dpi=120)\n",
    "plt.axis([0, 100, 0, 100])\n",
    "plt.plot(xx, yy, 'o', color='red', markersize= 1)\n",
    "c=plt.Circle (target, radius = r, color = 'orange')\n",
    "plt.gca ().add_artist (c)\n",
    "plt.show()"
   ]
  }
 ],
 "metadata": {
  "kernelspec": {
   "display_name": "Python 3 (ipykernel)",
   "language": "python",
   "name": "python3"
  },
  "language_info": {
   "codemirror_mode": {
    "name": "ipython",
    "version": 3
   },
   "file_extension": ".py",
   "mimetype": "text/x-python",
   "name": "python",
   "nbconvert_exporter": "python",
   "pygments_lexer": "ipython3",
   "version": "3.9.7"
  }
 },
 "nbformat": 4,
 "nbformat_minor": 5
}
