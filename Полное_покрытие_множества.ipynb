{
 "cells": [
  {
   "cell_type": "code",
   "execution_count": 1,
   "id": "53136f98-1c8c-4c7f-b595-54847c5648eb",
   "metadata": {},
   "outputs": [
    {
     "name": "stdout",
     "output_type": "stream",
     "text": [
      "{'kthree', 'kone', 'kfive', 'ktwo'}\n"
     ]
    }
   ],
   "source": [
    "states_needed = set([\"mt\", \"wa\", \"or\", \"id\", \"nv\", \"ut\", \"ca\", \"az\"])\n",
    "\n",
    "stations = {}\n",
    "stations[\"kone\"] = set([\"id\", \"nv\", \"ut\"])\n",
    "stations[\"ktwo\"] = set([\"wa\", \"id\", \"mt\"])\n",
    "stations[\"kthree\"] = set([\"or\", \"nv\", \"ca\"])\n",
    "stations[\"kfour\"] = set([\"nv\", \"ut\"])\n",
    "stations[\"kfive\"] = set([\"ca\", \"az\"])\n",
    "\n",
    "final_stations = set()\n",
    "\n",
    "def my_set_covering(states_needed, stations):\n",
    "    final_stations = set()\n",
    "    while states_needed:\n",
    "        best_station = None\n",
    "        states_covered = set()\n",
    "        for station, states_for_station in stations.items():\n",
    "            covered = states_needed & states_for_station\n",
    "            if len(covered) > len(states_covered) and station not in final_stations:\n",
    "                best_station = station\n",
    "                states_covered = covered\n",
    "        if best_station is not None:\n",
    "            states_needed -= states_covered\n",
    "            final_stations.add(best_station)\n",
    "            stations.pop(best_station)\n",
    "        else:\n",
    "            return None\n",
    "    return final_stations\n",
    "\n",
    "print(my_set_covering(states_needed, stations))"
   ]
  },
  {
   "cell_type": "code",
   "execution_count": null,
   "id": "093a6f8a-2fea-4ade-9cd7-b154aa6461e9",
   "metadata": {},
   "outputs": [],
   "source": []
  }
 ],
 "metadata": {
  "kernelspec": {
   "display_name": "Python 3 (ipykernel)",
   "language": "python",
   "name": "python3"
  },
  "language_info": {
   "codemirror_mode": {
    "name": "ipython",
    "version": 3
   },
   "file_extension": ".py",
   "mimetype": "text/x-python",
   "name": "python",
   "nbconvert_exporter": "python",
   "pygments_lexer": "ipython3",
   "version": "3.9.7"
  }
 },
 "nbformat": 4,
 "nbformat_minor": 5
}
