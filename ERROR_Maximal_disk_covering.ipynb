{
 "cells": [
  {
   "cell_type": "markdown",
   "id": "fbbc2ca2-bad7-4d7e-999e-add4031fb4a3",
   "metadata": {},
   "source": [
    "Дана карта с целями, координаты целей записаны в файле в целочисленном формате\n",
    "Задача: навести ракету с радиусом поражения r так, чтобы количество поражённых объектов было максимально"
   ]
  },
  {
   "cell_type": "code",
   "execution_count": 105,
   "id": "2ec75bbf-4a80-45cd-84fd-4b48fae62fef",
   "metadata": {},
   "outputs": [
    {
     "name": "stdin",
     "output_type": "stream",
     "text": [
      "Введите радиус поражения ракеты: 8\n"
     ]
    }
   ],
   "source": [
    "r = int(input('Введите радиус поражения ракеты:'))"
   ]
  },
  {
   "cell_type": "code",
   "execution_count": 202,
   "id": "54012d5c-91a3-48d1-8a30-6b5a09cd68ce",
   "metadata": {},
   "outputs": [],
   "source": [
    "cords={}\n",
    "with open(\"coords.txt\", \"r\") as file:\n",
    "        content=file.read()\n",
    "        j = 0\n",
    "        for i in content.split('\\n'):\n",
    "            j += 1\n",
    "            c = tuple(map(int, i.split(',')))\n",
    "            cords[j] = c"
   ]
  },
  {
   "cell_type": "code",
   "execution_count": 203,
   "id": "175524ec-f5cb-4b9b-8c3d-3e562ccd5463",
   "metadata": {},
   "outputs": [],
   "source": [
    "if len(cords) == 0:\n",
    "    print(\"Целей не обнаружено\")\n",
    "elif len(cords) == 1:\n",
    "    target = cords[1]\n",
    "    maxim = 1\n",
    "elif len(cords) == 2:\n",
    "    if (cords[1][0] - cords[2][0])**2 + (cords[1][1] - cords[2][1])**2 > (2*r)**2:\n",
    "        target = cords[1]     \n",
    "        maxim = 1"
   ]
  },
  {
   "cell_type": "markdown",
   "id": "210d28cc-e2ae-4c7e-9f74-8a9d0c547d6a",
   "metadata": {},
   "source": [
    "Посчитаем расстояния между точками"
   ]
  },
  {
   "cell_type": "code",
   "execution_count": 204,
   "id": "3244aeb2-1fec-4cbe-8d29-fd2f7322a902",
   "metadata": {},
   "outputs": [],
   "source": [
    "def dist(a, b):\n",
    "    d = [a[0] - b[0], a[1] - b[1]]\n",
    "    return (d[0] * d[0] + d[1] * d[1]) \n",
    "\n",
    "D = {}\n",
    "\n",
    "for city1, cords1 in cords.items():\n",
    "    D[city1] = {}\n",
    "    for city2, cords2 in cords.items():\n",
    "        if city2 != city1: D[city1][city2] = dist(cords1, cords2)   \n",
    "\n",
    "dist = []        \n",
    "for city1, v in D.items():\n",
    "    for city2, d in v.items():\n",
    "        dist.append((city1, city2, d))"
   ]
  },
  {
   "cell_type": "code",
   "execution_count": 205,
   "id": "5bc3e9d2-a4a6-4ad4-be3c-3f068f41dd87",
   "metadata": {},
   "outputs": [],
   "source": [
    "min_dist = sorted(dist, key=lambda attr: attr[2], reverse = True) "
   ]
  },
  {
   "cell_type": "code",
   "execution_count": 206,
   "id": "0a2f85de-a16f-435b-9dac-053f6097b62a",
   "metadata": {},
   "outputs": [],
   "source": [
    "min_dist2 = list(filter(lambda x: (0 < x[2] <= (2*r)**2), min_dist))"
   ]
  },
  {
   "cell_type": "markdown",
   "id": "099d82b7-7557-4af3-9c3e-48da847db95e",
   "metadata": {},
   "source": [
    "Найдем пары точек с расстоянием меньше, чем диаметр в квадрате ( так как мы не извлекали корень в формуле расстояния)"
   ]
  },
  {
   "cell_type": "code",
   "execution_count": 207,
   "id": "b08b2b22-5d2b-408b-98e3-835780f1996a",
   "metadata": {},
   "outputs": [],
   "source": [
    "from math import sqrt\n",
    "maxim = 0"
   ]
  },
  {
   "cell_type": "code",
   "execution_count": 208,
   "id": "3642e25d-6352-4c9d-8961-b47ae3312546",
   "metadata": {},
   "outputs": [
    {
     "name": "stdout",
     "output_type": "stream",
     "text": [
      "Улучаем поражение на 4 целей\n",
      "Улучаем поражение на 1 целей\n",
      "Наведение ракеты завершено\n"
     ]
    }
   ],
   "source": [
    "for i, j, k in min_dist2:\n",
    "    horda = [cords[i], cords[j]]\n",
    "    x1 = horda[0][0]; x2 = horda[1][0]\n",
    "    y1 = horda[0][1]; y2 = horda[1][1]\n",
    "    #d = sqrt((x1-x2)*(x1-x2) + (y1-y2)*(y1-y2))\n",
    "    d = sqrt(k)\n",
    "    h = sqrt(r * r - (d/2) * (d/2));\n",
    "\n",
    "    x01 = x1 + (x2 - x1)/2 + h * (y2 - y1) / d\n",
    "    y01 = y1 + (y2 - y1)/2 - h * (x2 - x1) / d\n",
    "\n",
    "    x02 = x1 + (x2 - x1)/2 - h * (y2 - y1) / d\n",
    "    y02 = y1 + (y2 - y1)/2 + h * (x2 - x1) / d\n",
    "    \n",
    "    cnt1 = 0; cnt2 = 0\n",
    "    \n",
    "    for i in cords:\n",
    "        if (cords[i][0] - x01)**2 + (cords[i][1] - y01)**2  <= r**2:\n",
    "            cnt1 += 1\n",
    "        elif (cords[i][0] - x02)**2 + (cords[i][1] - y02)**2  <= r**2:\n",
    "            cnt2 += 1\n",
    "    if cnt1 > maxim: delt = cnt1-maxim; maxim = cnt1; target = (x01, y01); print('Улучаем поражение на', delt, 'целей')\n",
    "    elif cnt2 > maxim: delt = cnt2-maxim; maxim = cnt2; target = (x02, y02); print('Улучаем поражение на', delt, 'целей')\n",
    "    for i in range(2):\n",
    "        if target[i] < 0: target[i] = 0\n",
    "print('Наведение ракеты завершено')"
   ]
  },
  {
   "cell_type": "markdown",
   "id": "17b3cc28-b39f-4d7b-affc-7d7e78de6b36",
   "metadata": {},
   "source": [
    "x01, y01; x02, y02 - центры окружностей"
   ]
  },
  {
   "cell_type": "code",
   "execution_count": 209,
   "id": "79bc712b-b526-434f-bd26-a543a11b7376",
   "metadata": {},
   "outputs": [
    {
     "name": "stdout",
     "output_type": "stream",
     "text": [
      "Координаты цели (52.670329308849006, 44.27289425486799)\n",
      "Число поражённых целей 5\n"
     ]
    }
   ],
   "source": [
    "print('Координаты цели', target)\n",
    "print('Число поражённых целей', maxim)"
   ]
  },
  {
   "cell_type": "code",
   "execution_count": 212,
   "id": "bc32a0d6-0368-44d2-985a-dd6f134ced0d",
   "metadata": {},
   "outputs": [],
   "source": [
    "xx = []\n",
    "yy = []\n",
    "for i in cords:\n",
    "    xx.append(cords[i][0])\n",
    "    yy.append(cords[i][1])  "
   ]
  },
  {
   "cell_type": "code",
   "execution_count": 213,
   "id": "9b7a4e93-df48-4e0c-b961-ae7b426ff3e5",
   "metadata": {},
   "outputs": [
    {
     "data": {
      "image/png": "[encoded data removed]",
      "text/plain": [
       "<Figure size 960x960 with 1 Axes>"
      ]
     },
     "metadata": {
      "needs_background": "light"
     },
     "output_type": "display_data"
    }
   ],
   "source": [
    "from matplotlib import pyplot as plt\n",
    "plt.figure(figsize=(8, 8), dpi=120)\n",
    "plt.axis([0, 100, 0, 100])\n",
    "plt.plot(xx, yy, 'o', color='red', markersize= 1)\n",
    "v=plt.Circle (target, radius = r, color = 'lightpink')\n",
    "d=plt.Circle ((59, 71), radius = r, color = 'lightskyblue')\n",
    "plt.gca ().add_artist (v)\n",
    "plt.gca ().add_artist (d)\n",
    "plt.show()"
   ]
  }
 ],
 "metadata": {
  "kernelspec": {
   "display_name": "Python 3 (ipykernel)",
   "language": "python",
   "name": "python3"
  },
  "language_info": {
   "codemirror_mode": {
    "name": "ipython",
    "version": 3
   },
   "file_extension": ".py",
   "mimetype": "text/x-python",
   "name": "python",
   "nbconvert_exporter": "python",
   "pygments_lexer": "ipython3",
   "version": "3.9.7"
  }
 },
 "nbformat": 4,
 "nbformat_minor": 5
}
