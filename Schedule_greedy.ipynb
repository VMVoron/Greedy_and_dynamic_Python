{
 "cells": [
  {
   "cell_type": "markdown",
   "id": "ee7acb52-89e8-4d83-96f2-6125387e6377",
   "metadata": {},
   "source": [
    "Составление расписания путём жадного алгоритма"
   ]
  },
  {
   "cell_type": "code",
   "execution_count": 170,
   "id": "02aaa72d-e620-4563-9a0e-fe5110201161",
   "metadata": {},
   "outputs": [],
   "source": [
    "lst = []\n",
    "lst += [['рисование', '09:00', '10:00']]\n",
    "lst += [['английский', '09:30', '10:30']]\n",
    "lst += [['математика', '10:00', '11:00']] \n",
    "lst += [['информатика', '10:30', '11:30']]\n",
    "lst += [['музыка', '11:00', '12:00']]"
   ]
  },
  {
   "cell_type": "code",
   "execution_count": 171,
   "id": "8483f891-057e-40e6-ae21-1d20c9977299",
   "metadata": {},
   "outputs": [
    {
     "data": {
      "text/plain": [
       "[['рисование', '09:00', '10:00'],\n",
       " ['английский', '09:30', '10:30'],\n",
       " ['математика', '10:00', '11:00'],\n",
       " ['информатика', '10:30', '11:30'],\n",
       " ['музыка', '11:00', '12:00']]"
      ]
     },
     "execution_count": 171,
     "metadata": {},
     "output_type": "execute_result"
    }
   ],
   "source": [
    "lst"
   ]
  },
  {
   "cell_type": "code",
   "execution_count": 172,
   "id": "5e3006d0-ea85-43c0-9267-acc18cb5f3c9",
   "metadata": {},
   "outputs": [
    {
     "name": "stdout",
     "output_type": "stream",
     "text": [
      "['математика', '10:00', '11:00']\n",
      "['музыка', '11:00', '12:00']\n"
     ]
    }
   ],
   "source": [
    "sch = []\n",
    "a = sorted(lst, key=lambda s: s[2]) [0]\n",
    "sch += [a]\n",
    "lst.remove(a)\n",
    "fl = True\n",
    "for i in range(len(lst)-1):\n",
    "    try:\n",
    "        b = list(filter(lambda x : x[1] >= a[2], lst))[0]\n",
    "        print(b)\n",
    "        sch += [b]\n",
    "        lst.remove(b)\n",
    "        a = b\n",
    "    except IndexError:\n",
    "        break"
   ]
  },
  {
   "cell_type": "code",
   "execution_count": 173,
   "id": "9a63db1c-eb12-46c7-a3e6-8199bf144cdf",
   "metadata": {},
   "outputs": [
    {
     "data": {
      "text/plain": [
       "[['рисование', '09:00', '10:00'],\n",
       " ['математика', '10:00', '11:00'],\n",
       " ['музыка', '11:00', '12:00']]"
      ]
     },
     "execution_count": 173,
     "metadata": {},
     "output_type": "execute_result"
    }
   ],
   "source": [
    "sch"
   ]
  }
 ],
 "metadata": {
  "kernelspec": {
   "display_name": "Python 3 (ipykernel)",
   "language": "python",
   "name": "python3"
  },
  "language_info": {
   "codemirror_mode": {
    "name": "ipython",
    "version": 3
   },
   "file_extension": ".py",
   "mimetype": "text/x-python",
   "name": "python",
   "nbconvert_exporter": "python",
   "pygments_lexer": "ipython3",
   "version": "3.9.7"
  }
 },
 "nbformat": 4,
 "nbformat_minor": 5
}
